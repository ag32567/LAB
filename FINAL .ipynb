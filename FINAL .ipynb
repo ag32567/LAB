{
 "cells": [
  {
   "cell_type": "markdown",
   "id": "f0934da6",
   "metadata": {},
   "source": [
    "# TOKENIZATION"
   ]
  },
  {
   "cell_type": "markdown",
   "id": "22c615ba",
   "metadata": {},
   "source": [
    "# Sentence tokenization"
   ]
  },
  {
   "cell_type": "code",
   "execution_count": 4,
   "id": "5fa4791d",
   "metadata": {},
   "outputs": [],
   "source": [
    "import nltk\n",
    "from nltk.tokenize import sent_tokenize"
   ]
  },
  {
   "cell_type": "code",
   "execution_count": 15,
   "id": "f1abd480",
   "metadata": {},
   "outputs": [],
   "source": [
    "sentence = \"You only live once, but if you do it right. Once is enough\""
   ]
  },
  {
   "cell_type": "code",
   "execution_count": 16,
   "id": "6ec9caee",
   "metadata": {},
   "outputs": [],
   "source": [
    "text_to_sentence = nltk.sent_tokenize(sentence)"
   ]
  },
  {
   "cell_type": "code",
   "execution_count": 17,
   "id": "2c64c650",
   "metadata": {},
   "outputs": [
    {
     "name": "stdout",
     "output_type": "stream",
     "text": [
      "['You only live once, but if you do it right.', 'Once is enough']\n"
     ]
    }
   ],
   "source": [
    "print(text_to_sentence)"
   ]
  },
  {
   "cell_type": "markdown",
   "id": "b08d031e",
   "metadata": {},
   "source": [
    "# Word Tokenization\n"
   ]
  },
  {
   "cell_type": "code",
   "execution_count": 5,
   "id": "02807b4c",
   "metadata": {},
   "outputs": [],
   "source": [
    "from nltk.tokenize import word_tokenize"
   ]
  },
  {
   "cell_type": "code",
   "execution_count": 6,
   "id": "d8579a9a",
   "metadata": {},
   "outputs": [],
   "source": [
    "sentence = \"You only live once, but if you do it right. Once is enough\""
   ]
  },
  {
   "cell_type": "code",
   "execution_count": 7,
   "id": "89ab86ee",
   "metadata": {},
   "outputs": [],
   "source": [
    "text_to_word = nltk.word_tokenize(sentence)"
   ]
  },
  {
   "cell_type": "code",
   "execution_count": 8,
   "id": "d51e27d2",
   "metadata": {},
   "outputs": [
    {
     "name": "stdout",
     "output_type": "stream",
     "text": [
      "['You', 'only', 'live', 'once', ',', 'but', 'if', 'you', 'do', 'it', 'right', '.', 'Once', 'is', 'enough']\n"
     ]
    }
   ],
   "source": [
    "print(text_to_word)"
   ]
  },
  {
   "cell_type": "markdown",
   "id": "a1ff87fa",
   "metadata": {},
   "source": []
  },
  {
   "cell_type": "markdown",
   "id": "b8115c8e",
   "metadata": {},
   "source": []
  },
  {
   "cell_type": "markdown",
   "id": "089c6ac6",
   "metadata": {},
   "source": []
  },
  {
   "cell_type": "markdown",
   "id": "f06b9d2b",
   "metadata": {},
   "source": [
    "## Stemming, Lemmatization and POS Tag"
   ]
  },
  {
   "cell_type": "code",
   "execution_count": 9,
   "id": "2b427a9b",
   "metadata": {},
   "outputs": [],
   "source": [
    "import nltk\n",
    "from nltk.tokenize import sent_tokenize\n",
    "from nltk.stem import PorterStemmer\n",
    "from nltk.stem import WordNetLemmatizer"
   ]
  },
  {
   "cell_type": "code",
   "execution_count": 10,
   "id": "174c2430",
   "metadata": {},
   "outputs": [],
   "source": [
    "text = \"\"\"I have three vision for India. \n",
    "In 3000 years of our history,people from all over the world have come and invaded us, captured our lands, conquered our minds. \n",
    "But we haven't captured their things.\"\"\""
   ]
  },
  {
   "cell_type": "code",
   "execution_count": 11,
   "id": "b3d0fcf0",
   "metadata": {},
   "outputs": [],
   "source": [
    "text_to_sentence = nltk.sent_tokenize(text)"
   ]
  },
  {
   "cell_type": "code",
   "execution_count": 12,
   "id": "fbbad64e",
   "metadata": {},
   "outputs": [
    {
     "name": "stdout",
     "output_type": "stream",
     "text": [
      "['I have three vision for India.', 'In 3000 years of our history,people from all over the world have come and invaded us, captured our lands, conquered our minds.', \"But we haven't captured their things.\"]\n"
     ]
    }
   ],
   "source": [
    "print(text_to_sentence)"
   ]
  },
  {
   "cell_type": "code",
   "execution_count": 13,
   "id": "986c9490",
   "metadata": {},
   "outputs": [],
   "source": [
    "ps = PorterStemmer()"
   ]
  },
  {
   "cell_type": "code",
   "execution_count": 14,
   "id": "56c0fe05",
   "metadata": {},
   "outputs": [
    {
     "name": "stdout",
     "output_type": "stream",
     "text": [
      "['i have three vision for india .', 'In 3000 years of our history,people from all over the world have come and invaded us, captured our lands, conquered our minds.', \"But we haven't captured their things.\"]\n",
      "['i have three vision for india .', 'in 3000 year of our histori , peopl from all over the world have come and invad us , captur our land , conquer our mind .', \"But we haven't captured their things.\"]\n",
      "['i have three vision for india .', 'in 3000 year of our histori , peopl from all over the world have come and invad us , captur our land , conquer our mind .', \"but we have n't captur their thing .\"]\n"
     ]
    }
   ],
   "source": [
    "for i in range(len(text_to_sentence)):\n",
    "    words = nltk.word_tokenize(text_to_sentence[i])\n",
    "    words = [ps.stem(word) for word in words]\n",
    "    text_to_sentence[i] = ' '.join(words)\n",
    "    print(text_to_sentence)"
   ]
  },
  {
   "cell_type": "code",
   "execution_count": 15,
   "id": "fecc57e1",
   "metadata": {},
   "outputs": [],
   "source": [
    "lemmatizer  = WordNetLemmatizer()"
   ]
  },
  {
   "cell_type": "code",
   "execution_count": 16,
   "id": "c5ab1eae",
   "metadata": {},
   "outputs": [
    {
     "name": "stdout",
     "output_type": "stream",
     "text": [
      "['i have three vision for india .', 'in 3000 year of our histori , peopl from all over the world have come and invad us , captur our land , conquer our mind .', \"but we have n't captur their thing .\"]\n",
      "['i have three vision for india .', 'in 3000 year of our histori , peopl from all over the world have come and invad u , captur our land , conquer our mind .', \"but we have n't captur their thing .\"]\n",
      "['i have three vision for india .', 'in 3000 year of our histori , peopl from all over the world have come and invad u , captur our land , conquer our mind .', \"but we have n't captur their thing .\"]\n"
     ]
    }
   ],
   "source": [
    "for i in range(len(text_to_sentence)):\n",
    "    words = nltk.word_tokenize(text_to_sentence[i])\n",
    "    words = [lemmatizer.lemmatize(word) for word in words]\n",
    "    text_to_sentence[i] = ' '.join(words)\n",
    "    print(text_to_sentence)"
   ]
  },
  {
   "cell_type": "code",
   "execution_count": 17,
   "id": "ad2db824",
   "metadata": {},
   "outputs": [
    {
     "name": "stdout",
     "output_type": "stream",
     "text": [
      "[('but', 'CC'), ('we', 'PRP'), ('have', 'VBP'), (\"n't\", 'RB'), ('captur', 'VB'), ('their', 'PRP$'), ('thing', 'NN'), ('.', '.')]\n"
     ]
    }
   ],
   "source": [
    "from nltk.tag import pos_tag\n",
    "tag = nltk.pos_tag(words)\n",
    "print(tag)"
   ]
  },
  {
   "cell_type": "code",
   "execution_count": 18,
   "id": "aa6fb9b7",
   "metadata": {},
   "outputs": [
    {
     "name": "stderr",
     "output_type": "stream",
     "text": [
      "[nltk_data] Downloading package omw-1.4 to C:\\Users\\ARYAN\n",
      "[nltk_data]     GUPTA\\AppData\\Roaming\\nltk_data...\n",
      "[nltk_data]   Package omw-1.4 is already up-to-date!\n"
     ]
    },
    {
     "data": {
      "text/plain": [
       "True"
      ]
     },
     "execution_count": 18,
     "metadata": {},
     "output_type": "execute_result"
    }
   ],
   "source": [
    "import nltk\n",
    "nltk.download('omw-1.4')"
   ]
  },
  {
   "cell_type": "markdown",
   "id": "451b6e3f",
   "metadata": {},
   "source": [
    "`"
   ]
  },
  {
   "cell_type": "markdown",
   "id": "54298479",
   "metadata": {},
   "source": []
  },
  {
   "cell_type": "markdown",
   "id": "ab025fc9",
   "metadata": {},
   "source": []
  },
  {
   "cell_type": "markdown",
   "id": "a1b7cc2a",
   "metadata": {},
   "source": [
    "# Removal of stopwords using NLTK"
   ]
  },
  {
   "cell_type": "code",
   "execution_count": 19,
   "id": "ce147abc",
   "metadata": {},
   "outputs": [],
   "source": [
    "import nltk\n",
    "from nltk.tokenize import word_tokenize\n",
    "from nltk.corpus import stopwords\n",
    "from nltk.tag import pos_tag"
   ]
  },
  {
   "cell_type": "code",
   "execution_count": 20,
   "id": "e0fb91dd",
   "metadata": {},
   "outputs": [
    {
     "name": "stdout",
     "output_type": "stream",
     "text": [
      "['i', 'me', 'my', 'myself', 'we', 'our', 'ours', 'ourselves', 'you', \"you're\", \"you've\", \"you'll\", \"you'd\", 'your', 'yours', 'yourself', 'yourselves', 'he', 'him', 'his', 'himself', 'she', \"she's\", 'her', 'hers', 'herself', 'it', \"it's\", 'its', 'itself', 'they', 'them', 'their', 'theirs', 'themselves', 'what', 'which', 'who', 'whom', 'this', 'that', \"that'll\", 'these', 'those', 'am', 'is', 'are', 'was', 'were', 'be', 'been', 'being', 'have', 'has', 'had', 'having', 'do', 'does', 'did', 'doing', 'a', 'an', 'the', 'and', 'but', 'if', 'or', 'because', 'as', 'until', 'while', 'of', 'at', 'by', 'for', 'with', 'about', 'against', 'between', 'into', 'through', 'during', 'before', 'after', 'above', 'below', 'to', 'from', 'up', 'down', 'in', 'out', 'on', 'off', 'over', 'under', 'again', 'further', 'then', 'once', 'here', 'there', 'when', 'where', 'why', 'how', 'all', 'any', 'both', 'each', 'few', 'more', 'most', 'other', 'some', 'such', 'no', 'nor', 'not', 'only', 'own', 'same', 'so', 'than', 'too', 'very', 's', 't', 'can', 'will', 'just', 'don', \"don't\", 'should', \"should've\", 'now', 'd', 'll', 'm', 'o', 're', 've', 'y', 'ain', 'aren', \"aren't\", 'couldn', \"couldn't\", 'didn', \"didn't\", 'doesn', \"doesn't\", 'hadn', \"hadn't\", 'hasn', \"hasn't\", 'haven', \"haven't\", 'isn', \"isn't\", 'ma', 'mightn', \"mightn't\", 'mustn', \"mustn't\", 'needn', \"needn't\", 'shan', \"shan't\", 'shouldn', \"shouldn't\", 'wasn', \"wasn't\", 'weren', \"weren't\", 'won', \"won't\", 'wouldn', \"wouldn't\"]\n"
     ]
    }
   ],
   "source": [
    "print(stopwords.words('english'))"
   ]
  },
  {
   "cell_type": "code",
   "execution_count": 21,
   "id": "eff20506",
   "metadata": {},
   "outputs": [
    {
     "name": "stdout",
     "output_type": "stream",
     "text": [
      "['Oh', 'man', ',', 'this', 'is', 'pretty', 'cool', '.', 'We', 'will', 'do', 'more', 'such', 'things', '.']\n"
     ]
    }
   ],
   "source": [
    "text = \"Oh man, this is pretty cool. We will do more such things.\"\n",
    "text_tokens = word_tokenize(text)\n",
    "print(text_tokens)"
   ]
  },
  {
   "cell_type": "code",
   "execution_count": 22,
   "id": "ac03a336",
   "metadata": {},
   "outputs": [],
   "source": [
    "tokens_without_sw = [word for word in text_tokens if not word in stopwords.words('english')]"
   ]
  },
  {
   "cell_type": "code",
   "execution_count": 23,
   "id": "838d24ed",
   "metadata": {},
   "outputs": [
    {
     "name": "stdout",
     "output_type": "stream",
     "text": [
      "['Oh', 'man', ',', 'pretty', 'cool', '.', 'We', 'things', '.']\n"
     ]
    }
   ],
   "source": [
    "print(tokens_without_sw)"
   ]
  },
  {
   "cell_type": "code",
   "execution_count": 24,
   "id": "2978c782",
   "metadata": {},
   "outputs": [],
   "source": [
    "tag = nltk.pos_tag(tokens_without_sw)"
   ]
  },
  {
   "cell_type": "code",
   "execution_count": 25,
   "id": "d51ff111",
   "metadata": {},
   "outputs": [
    {
     "name": "stdout",
     "output_type": "stream",
     "text": [
      "[('Oh', 'UH'), ('man', 'NN'), (',', ','), ('pretty', 'RB'), ('cool', 'JJ'), ('.', '.'), ('We', 'PRP'), ('things', 'NNS'), ('.', '.')]\n"
     ]
    }
   ],
   "source": [
    "print(tag)"
   ]
  },
  {
   "cell_type": "markdown",
   "id": "7b3e1470",
   "metadata": {},
   "source": []
  },
  {
   "cell_type": "markdown",
   "id": "b571956b",
   "metadata": {},
   "source": []
  },
  {
   "cell_type": "markdown",
   "id": "173095cf",
   "metadata": {},
   "source": []
  },
  {
   "cell_type": "markdown",
   "id": "44791994",
   "metadata": {},
   "source": [
    "# N-Grams Implementation using NLTK"
   ]
  },
  {
   "cell_type": "code",
   "execution_count": 26,
   "id": "2fe258c1",
   "metadata": {},
   "outputs": [],
   "source": [
    "# Inbuilt function\n",
    "import nltk\n",
    "from nltk import ngrams\n",
    "from nltk.corpus import stopwords"
   ]
  },
  {
   "cell_type": "code",
   "execution_count": 27,
   "id": "e6e5e161",
   "metadata": {},
   "outputs": [
    {
     "name": "stdout",
     "output_type": "stream",
     "text": [
      "Enter the sentence : Chandigarh University is situated in Mohali Punjab. It is the best private university in north India.\n",
      "Enter the value of n: 2\n"
     ]
    }
   ],
   "source": [
    "sentence = input(\"Enter the sentence : \")\n",
    "n = int(input(\"Enter the value of n: \"))"
   ]
  },
  {
   "cell_type": "code",
   "execution_count": 28,
   "id": "0174ca1f",
   "metadata": {},
   "outputs": [
    {
     "name": "stdout",
     "output_type": "stream",
     "text": [
      "('Chandigarh', 'University')\n",
      "('University', 'is')\n",
      "('is', 'situated')\n",
      "('situated', 'in')\n",
      "('in', 'Mohali')\n",
      "('Mohali', 'Punjab.')\n",
      "('Punjab.', 'It')\n",
      "('It', 'is')\n",
      "('is', 'the')\n",
      "('the', 'best')\n",
      "('best', 'private')\n",
      "('private', 'university')\n",
      "('university', 'in')\n",
      "('in', 'north')\n",
      "('north', 'India.')\n"
     ]
    }
   ],
   "source": [
    "n_gram = ngrams(sentence.split(), n)\n",
    "for gram in n_gram:\n",
    "    print(gram)"
   ]
  },
  {
   "cell_type": "code",
   "execution_count": 29,
   "id": "94105ae8",
   "metadata": {},
   "outputs": [],
   "source": [
    "# User defined function\n",
    "def generate_n_gram(sentence, ngram=4):\n",
    "    words = [word for word in sentence.split(' ') if word not in set(stopwords.words('english'))]\n",
    "    print(\"Sentence after removing stopwords: \", words)\n",
    "    temp = zip(*[words[i: ] for i in range(0, ngram)])\n",
    "    ans = [' '.join(ngram) for ngram in temp]\n",
    "    return ans"
   ]
  },
  {
   "cell_type": "code",
   "execution_count": 30,
   "id": "019793e2",
   "metadata": {},
   "outputs": [
    {
     "name": "stdout",
     "output_type": "stream",
     "text": [
      "Sentence after removing stopwords:  ['Chandigarh', 'University', 'situated', 'Mohali', 'Punjab.', 'It', 'best', 'private', 'university', 'north', 'India.']\n"
     ]
    },
    {
     "data": {
      "text/plain": [
       "['Chandigarh University situated Mohali',\n",
       " 'University situated Mohali Punjab.',\n",
       " 'situated Mohali Punjab. It',\n",
       " 'Mohali Punjab. It best',\n",
       " 'Punjab. It best private',\n",
       " 'It best private university',\n",
       " 'best private university north',\n",
       " 'private university north India.']"
      ]
     },
     "execution_count": 30,
     "metadata": {},
     "output_type": "execute_result"
    }
   ],
   "source": [
    "generate_n_gram(sentence, 4)"
   ]
  },
  {
   "cell_type": "code",
   "execution_count": null,
   "id": "994724a7",
   "metadata": {},
   "outputs": [],
   "source": []
  },
  {
   "cell_type": "code",
   "execution_count": null,
   "id": "fca0517f",
   "metadata": {},
   "outputs": [],
   "source": []
  },
  {
   "cell_type": "code",
   "execution_count": null,
   "id": "8f9a5d4d",
   "metadata": {},
   "outputs": [],
   "source": []
  },
  {
   "cell_type": "code",
   "execution_count": null,
   "id": "4e9f26ad",
   "metadata": {},
   "outputs": [],
   "source": []
  },
  {
   "cell_type": "code",
   "execution_count": null,
   "id": "b24a041a",
   "metadata": {},
   "outputs": [],
   "source": []
  },
  {
   "cell_type": "markdown",
   "id": "e648da75",
   "metadata": {},
   "source": [
    "# N-gram smoothing using NLTK"
   ]
  },
  {
   "cell_type": "code",
   "execution_count": 1,
   "id": "0d54775b",
   "metadata": {},
   "outputs": [],
   "source": [
    "import nltk"
   ]
  },
  {
   "cell_type": "code",
   "execution_count": 2,
   "id": "f69e0773",
   "metadata": {},
   "outputs": [],
   "source": [
    "vocabulary = ['Humpty', 'Dumpty', 'sat', 'on', 'a', 'wall']\n",
    "count = {'Humpty': 5, 'Dumpty': 3, 'sat': 1, 'on': 2, 'a':2}"
   ]
  },
  {
   "cell_type": "code",
   "execution_count": 3,
   "id": "852fe697",
   "metadata": {},
   "outputs": [],
   "source": [
    "alpha = 1"
   ]
  },
  {
   "cell_type": "code",
   "execution_count": 4,
   "id": "0af1d3ff",
   "metadata": {},
   "outputs": [
    {
     "name": "stdout",
     "output_type": "stream",
     "text": [
      "13\n"
     ]
    }
   ],
   "source": [
    "total_tokens = sum(count.values())\n",
    "print(total_tokens_tokens)"
   ]
  },
  {
   "cell_type": "code",
   "execution_count": 5,
   "id": "58ac80e4",
   "metadata": {},
   "outputs": [],
   "source": [
    "prob_dist = nltk.probability.LaplaceProbDist(nltk.probability.FreqDist(count), bins = len(vocabulary))"
   ]
  },
  {
   "cell_type": "code",
   "execution_count": 6,
   "id": "84071f42",
   "metadata": {},
   "outputs": [
    {
     "name": "stdout",
     "output_type": "stream",
     "text": [
      "Probability of 'Humpty': 0.316\n",
      "Probability of 'Dumpty': 0.211\n",
      "Probability of 'sat': 0.105\n",
      "Probability of 'on': 0.158\n",
      "Probability of 'a': 0.158\n",
      "Probability of 'wall': 0.053\n"
     ]
    }
   ],
   "source": [
    "for word in vocabulary:\n",
    "    prob = prob_dist.prob(word)\n",
    "    print(f\"Probability of '{word}': {prob:.3f}\")"
   ]
  },
  {
   "cell_type": "code",
   "execution_count": 9,
   "id": "45ed3f47",
   "metadata": {},
   "outputs": [],
   "source": [
    "import nltk\n",
    "from nltk.util import ngrams"
   ]
  },
  {
   "cell_type": "code",
   "execution_count": 10,
   "id": "038f3a19",
   "metadata": {},
   "outputs": [],
   "source": [
    "text = \"Humpty Dumpty sat on a wall.\""
   ]
  },
  {
   "cell_type": "code",
   "execution_count": 11,
   "id": "d6a854a1",
   "metadata": {},
   "outputs": [
    {
     "name": "stdout",
     "output_type": "stream",
     "text": [
      "['Humpty', 'Dumpty', 'sat', 'on', 'a', 'wall', '.']\n"
     ]
    }
   ],
   "source": [
    "tokens = nltk.word_tokenize(text)\n",
    "print(tokens)"
   ]
  },
  {
   "cell_type": "code",
   "execution_count": 12,
   "id": "d49ef236",
   "metadata": {},
   "outputs": [],
   "source": [
    "freq_dist = nltk.FreqDist(tokens)\n",
    "vocab_size = len(freq_dist)\n",
    "k=1"
   ]
  },
  {
   "cell_type": "code",
   "execution_count": 15,
   "id": "c5b3c2f3",
   "metadata": {},
   "outputs": [],
   "source": [
    "smoothed_probs = {}\n",
    "for tokens in freq_dist:\n",
    "    smoothed_probs[tokens] = (freq_dist[tokens] + k) /  (len(tokens) + k * vocab_size)"
   ]
  },
  {
   "cell_type": "code",
   "execution_count": 22,
   "id": "6e27d5c0",
   "metadata": {},
   "outputs": [
    {
     "name": "stdout",
     "output_type": "stream",
     "text": [
      "Token\tUnsmoothed\tSmoothed\n",
      "----------------------------------\n",
      "Humpty\t 1.0\t\t0.25\n",
      "Dumpty\t 1.0\t\t0.25\n",
      "sat\t 1.0\t\t0.25\n",
      "on\t 1.0\t\t0.25\n",
      "a\t 1.0\t\t0.25\n",
      "wall\t 1.0\t\t0.25\n",
      ".\t 1.0\t\t0.25\n"
     ]
    }
   ],
   "source": [
    "print(\"Token\\tUnsmoothed\\tSmoothed\\n----------------------------------\")\n",
    "for token in freq_dist:\n",
    "    print(\"{}\\t {}\\t\\t{}\".format(token, freq_dist[tokens] / len(tokens), smoothed_probs[tokens]))"
   ]
  },
  {
   "cell_type": "code",
   "execution_count": null,
   "id": "a9faefef",
   "metadata": {},
   "outputs": [],
   "source": []
  },
  {
   "cell_type": "code",
   "execution_count": null,
   "id": "6103d82b",
   "metadata": {},
   "outputs": [],
   "source": []
  },
  {
   "cell_type": "code",
   "execution_count": null,
   "id": "496d2952",
   "metadata": {},
   "outputs": [],
   "source": []
  },
  {
   "cell_type": "code",
   "execution_count": null,
   "id": "556a1d9a",
   "metadata": {},
   "outputs": [],
   "source": []
  },
  {
   "cell_type": "markdown",
   "id": "b03a1a1d",
   "metadata": {},
   "source": [
    "# Bag Of Words"
   ]
  },
  {
   "cell_type": "code",
   "execution_count": 1,
   "id": "242f3528",
   "metadata": {},
   "outputs": [],
   "source": [
    "import pandas as pd\n",
    "import nltk\n",
    "from nltk.tokenize import word_tokenize\n",
    "from sklearn.feature_extraction.text import CountVectorizer"
   ]
  },
  {
   "cell_type": "code",
   "execution_count": 13,
   "id": "84373c0a",
   "metadata": {},
   "outputs": [],
   "source": [
    "documents = [\"Machine Learning uses historical data to predict the output values. Machine Learning is seen as a part of artificial intelligence.\"]"
   ]
  },
  {
   "cell_type": "code",
   "execution_count": 14,
   "id": "39b4bed6",
   "metadata": {},
   "outputs": [
    {
     "name": "stdout",
     "output_type": "stream",
     "text": [
      "['Machine Learning uses historical data to predict the output values. Machine Learning is seen as a part of artificial intelligence.']\n"
     ]
    }
   ],
   "source": [
    "print(documents)"
   ]
  },
  {
   "cell_type": "code",
   "execution_count": 15,
   "id": "72c3b6ef",
   "metadata": {},
   "outputs": [
    {
     "name": "stdout",
     "output_type": "stream",
     "text": [
      "[['machine', 'learning', 'uses', 'historical', 'data', 'to', 'predict', 'the', 'output', 'values', '.', 'machine', 'learning', 'is', 'seen', 'as', 'a', 'part', 'of', 'artificial', 'intelligence', '.']]\n"
     ]
    }
   ],
   "source": [
    "tokens = [word_tokenize(sentences.lower()) for sentences in documents]\n",
    "print(tokens)"
   ]
  },
  {
   "cell_type": "code",
   "execution_count": 16,
   "id": "0d9fa811",
   "metadata": {},
   "outputs": [],
   "source": [
    "cv = CountVectorizer()\n",
    "bow_matrix = cv.fit_transform(documents)"
   ]
  },
  {
   "cell_type": "code",
   "execution_count": 17,
   "id": "bca1f99a",
   "metadata": {},
   "outputs": [
    {
     "data": {
      "text/plain": [
       "array([[1, 1, 1, 1, 1, 1, 2, 2, 1, 1, 1, 1, 1, 1, 1, 1, 1]], dtype=int64)"
      ]
     },
     "execution_count": 17,
     "metadata": {},
     "output_type": "execute_result"
    }
   ],
   "source": [
    "bow_matrix.toarray()"
   ]
  },
  {
   "cell_type": "code",
   "execution_count": 19,
   "id": "cad4ba9a",
   "metadata": {},
   "outputs": [],
   "source": [
    "vc = cv.vocabulary_"
   ]
  },
  {
   "cell_type": "code",
   "execution_count": 24,
   "id": "05e2ddf7",
   "metadata": {},
   "outputs": [
    {
     "data": {
      "text/plain": [
       "{'machine': 7,\n",
       " 'learning': 6,\n",
       " 'uses': 15,\n",
       " 'historical': 3,\n",
       " 'data': 2,\n",
       " 'to': 14,\n",
       " 'predict': 11,\n",
       " 'the': 13,\n",
       " 'output': 9,\n",
       " 'values': 16,\n",
       " 'is': 5,\n",
       " 'seen': 12,\n",
       " 'as': 1,\n",
       " 'part': 10,\n",
       " 'of': 8,\n",
       " 'artificial': 0,\n",
       " 'intelligence': 4}"
      ]
     },
     "execution_count": 24,
     "metadata": {},
     "output_type": "execute_result"
    }
   ],
   "source": [
    "vc"
   ]
  },
  {
   "cell_type": "code",
   "execution_count": null,
   "id": "45713ffe",
   "metadata": {},
   "outputs": [],
   "source": [
    "`"
   ]
  },
  {
   "cell_type": "code",
   "execution_count": null,
   "id": "890c00dd",
   "metadata": {},
   "outputs": [],
   "source": []
  },
  {
   "cell_type": "code",
   "execution_count": null,
   "id": "c32f0356",
   "metadata": {},
   "outputs": [],
   "source": []
  },
  {
   "cell_type": "code",
   "execution_count": null,
   "id": "2e0e4c0c",
   "metadata": {},
   "outputs": [],
   "source": []
  },
  {
   "cell_type": "markdown",
   "id": "32be6246",
   "metadata": {},
   "source": [
    "# POS Tagging using HMM"
   ]
  },
  {
   "cell_type": "code",
   "execution_count": null,
   "id": "0d7cb420",
   "metadata": {},
   "outputs": [],
   "source": [
    "import nltk\n",
    "from nltk.corpus import brown"
   ]
  },
  {
   "cell_type": "code",
   "execution_count": null,
   "id": "773b3470",
   "metadata": {
    "scrolled": true
   },
   "outputs": [],
   "source": [
    "brown.tagged_sents()"
   ]
  },
  {
   "cell_type": "code",
   "execution_count": null,
   "id": "1448531a",
   "metadata": {},
   "outputs": [],
   "source": [
    "brown_word_tags = []\n",
    "for brown_sent in brown.tagged_sents():\n",
    "    brown_word_tags.append(('START','START'))\n",
    "    \n",
    "    for words,tag in brown_sent:\n",
    "        brown_word_tags.extend([(tag[:2],words)])    \n",
    "    brown_word_tags.append(('END','END'))"
   ]
  },
  {
   "cell_type": "code",
   "execution_count": null,
   "id": "2f8cbcc1",
   "metadata": {},
   "outputs": [],
   "source": [
    "cfd_tag_words = nltk.ConditionalFreqDist(brown_word_tags)\n",
    "cpd_tag_words = nltk.ConditionalProbDist(cfd_tag_words,nltk.MLEProbDist)"
   ]
  },
  {
   "cell_type": "code",
   "execution_count": null,
   "id": "89c6e4bb",
   "metadata": {
    "scrolled": true
   },
   "outputs": [],
   "source": [
    "print(\"The probability of an adjective (JJ) being 'smart' is\", cpd_tag_words[\"JJ\"].prob(\"smart\"))\n",
    "print(\"The probability of a verb (VB) being 'try' is\", cpd_tag_words[\"VB\"].prob(\"try\"))"
   ]
  },
  {
   "cell_type": "code",
   "execution_count": null,
   "id": "6d34475d",
   "metadata": {},
   "outputs": [],
   "source": [
    "brown_tags = []\n",
    "for tag, words in brown_word_tags:\n",
    "    brown_tags.append(tag)"
   ]
  },
  {
   "cell_type": "code",
   "execution_count": null,
   "id": "8bed9306",
   "metadata": {},
   "outputs": [],
   "source": [
    "cfd_tags=nltk.ConditionalFreqDist(nltk.bigrams(brown_tags))"
   ]
  },
  {
   "cell_type": "code",
   "execution_count": null,
   "id": "37214203",
   "metadata": {},
   "outputs": [],
   "source": [
    "cpd_tags=nltk.ConditionalProbDist(cfd_tags,nltk.MLEProbDist)"
   ]
  },
  {
   "cell_type": "code",
   "execution_count": null,
   "id": "04a22efa",
   "metadata": {},
   "outputs": [],
   "source": [
    "print('The probability of DT occuring after NN is : ', cpd_tags[\"NN\"].prob(\"DT\"))\n",
    "print('The probability of VB occuring after NN is : ', cpd_tags[\"NN\"].prob(\"VB\"))"
   ]
  },
  {
   "cell_type": "code",
   "execution_count": null,
   "id": "15d31bc1",
   "metadata": {},
   "outputs": [],
   "source": []
  },
  {
   "cell_type": "code",
   "execution_count": null,
   "id": "821123f8",
   "metadata": {},
   "outputs": [],
   "source": []
  },
  {
   "cell_type": "code",
   "execution_count": null,
   "id": "4564f27a",
   "metadata": {},
   "outputs": [],
   "source": []
  },
  {
   "cell_type": "code",
   "execution_count": null,
   "id": "aa0decda",
   "metadata": {},
   "outputs": [],
   "source": []
  },
  {
   "cell_type": "markdown",
   "id": "a86e2d2d",
   "metadata": {},
   "source": [
    "# POS Tagging using Viterbi Algorithm"
   ]
  },
  {
   "cell_type": "code",
   "execution_count": 25,
   "id": "60b04df8",
   "metadata": {},
   "outputs": [],
   "source": [
    "import nltk\n",
    "import numpy as np"
   ]
  },
  {
   "cell_type": "code",
   "execution_count": 26,
   "id": "613fd300",
   "metadata": {},
   "outputs": [],
   "source": [
    "# Define the set of all possible POS tags\n",
    "tags = [\"NN\", \"VB\", \"JJ\", \"RB\"]"
   ]
  },
  {
   "cell_type": "code",
   "execution_count": 27,
   "id": "c47fc6d1",
   "metadata": {},
   "outputs": [],
   "source": [
    "# Define the transition probabilities\n",
    "trans_prob = np.array([[0.2, 0.5, 0.1, 0.2],\n",
    "                       [0.1, 0.2, 0.4, 0.3],\n",
    "                       [0.4, 0.1, 0.3, 0.2],\n",
    "                       [0.3, 0.3, 0.1, 0.3]])"
   ]
  },
  {
   "cell_type": "code",
   "execution_count": 28,
   "id": "b7dc0698",
   "metadata": {},
   "outputs": [],
   "source": [
    "# Define the emission probabilities\n",
    "emis_prob = np.array([[0.3, 0.2, 0.3, 0.2],\n",
    "                      [0.1, 0.5, 0.1, 0.3],\n",
    "                      [0.2, 0.2, 0.5, 0.1],\n",
    "                      [0.4, 0.1, 0.2, 0.3]])"
   ]
  },
  {
   "cell_type": "code",
   "execution_count": 29,
   "id": "043ef7ff",
   "metadata": {},
   "outputs": [],
   "source": [
    "# Define the sequence of words to be tagged\n",
    "words = [\"the\", \"cat\", \"is\", \"running\"]"
   ]
  },
  {
   "cell_type": "code",
   "execution_count": 30,
   "id": "fa6c33fc",
   "metadata": {},
   "outputs": [],
   "source": [
    "# Initialize the Viterbi trellis with the start state\n",
    "trellis = np.zeros((len(tags), len(words)))\n",
    "trellis[:, 0] = trans_prob[:, 0] * emis_prob[:, 0]"
   ]
  },
  {
   "cell_type": "code",
   "execution_count": 31,
   "id": "b153214d",
   "metadata": {},
   "outputs": [],
   "source": [
    "# Iterate over each word in the sequence\n",
    "for t in range(1, len(words)):\n",
    "    # Iterate over each possible current tag\n",
    "    for i in range(len(tags)):\n",
    "        # Calculate the probability of each possible previous tag\n",
    "        probs = trellis[:, t-1] * trans_prob[:, i] * emis_prob[i, t]\n",
    "        # Set the trellis value for this tag and time step to the maximum probability\n",
    "        trellis[i, t] = np.max(probs)"
   ]
  },
  {
   "cell_type": "code",
   "execution_count": 35,
   "id": "e8bc1fd6",
   "metadata": {},
   "outputs": [
    {
     "name": "stdout",
     "output_type": "stream",
     "text": [
      "NN\n"
     ]
    }
   ],
   "source": [
    "# Find the maximum probability and corresponding tag for the last time step\n",
    "max_prob = np.max(trellis[:, -1])\n",
    "max_tag = tags[np.argmax(trellis[:, -1])]\n",
    "print(max_tag)"
   ]
  },
  {
   "cell_type": "code",
   "execution_count": 33,
   "id": "d3500550",
   "metadata": {},
   "outputs": [],
   "source": [
    "# Backtrack through the trellis to find the most likely tag sequence\n",
    "tag_seq = [max_tag]\n",
    "for t in range(len(words)-1, 0, -1):\n",
    "    # Calculate the probability of each possible previous tag\n",
    "    probs = trellis[:, t-1] * trans_prob[:, tags.index(max_tag)] * emis_prob[tags.index(max_tag), t]\n",
    "    # Set the most likely tag for the previous time step\n",
    "    max_tag = tags[np.argmax(probs)]\n",
    "    tag_seq.append(max_tag)\n",
    "tag_seq.reverse()"
   ]
  },
  {
   "cell_type": "code",
   "execution_count": 34,
   "id": "4ca268cb",
   "metadata": {},
   "outputs": [
    {
     "name": "stdout",
     "output_type": "stream",
     "text": [
      "the/RB cat/VB is/JJ running/NN "
     ]
    }
   ],
   "source": [
    "# Print the sequence of words with their corresponding tags\n",
    "for i in range(len(words)):\n",
    "    print(words[i] + \"/\" + tag_seq[i], end=\" \")"
   ]
  },
  {
   "cell_type": "code",
   "execution_count": null,
   "id": "e395924d",
   "metadata": {},
   "outputs": [],
   "source": []
  },
  {
   "cell_type": "code",
   "execution_count": null,
   "id": "800b8d13",
   "metadata": {},
   "outputs": [],
   "source": []
  },
  {
   "cell_type": "code",
   "execution_count": null,
   "id": "417d9dda",
   "metadata": {},
   "outputs": [],
   "source": []
  },
  {
   "cell_type": "markdown",
   "id": "443d9d53",
   "metadata": {},
   "source": [
    "# POS TAGGER USING NLTK"
   ]
  },
  {
   "cell_type": "code",
   "execution_count": 15,
   "id": "e28a5d40",
   "metadata": {},
   "outputs": [],
   "source": [
    "import nltk\n",
    "from nltk import word_tokenize\n",
    "from nltk import pos_tag"
   ]
  },
  {
   "cell_type": "code",
   "execution_count": 16,
   "id": "e3f385e4",
   "metadata": {},
   "outputs": [
    {
     "name": "stdout",
     "output_type": "stream",
     "text": [
      "Text after word tokenization:\n"
     ]
    },
    {
     "data": {
      "text/plain": [
       "['The',\n",
       " 'cat',\n",
       " 'sit',\n",
       " 'on',\n",
       " 'the',\n",
       " 'mat',\n",
       " '.',\n",
       " 'The',\n",
       " 'mouse',\n",
       " 'ran',\n",
       " 'away',\n",
       " '.']"
      ]
     },
     "execution_count": 16,
     "metadata": {},
     "output_type": "execute_result"
    }
   ],
   "source": [
    "text = 'The cat sit on the mat. The mouse ran away.'\n",
    "tokens = word_tokenize(text)\n",
    "print('Text after word tokenization:')\n",
    "tokens"
   ]
  },
  {
   "cell_type": "code",
   "execution_count": 17,
   "id": "0d008a4d",
   "metadata": {},
   "outputs": [],
   "source": [
    "tags = pos_tag(tokens)"
   ]
  },
  {
   "cell_type": "code",
   "execution_count": 18,
   "id": "0dcb48cc",
   "metadata": {},
   "outputs": [
    {
     "name": "stdout",
     "output_type": "stream",
     "text": [
      "Text after POS Tagging\n"
     ]
    },
    {
     "data": {
      "text/plain": [
       "[('The', 'DT'),\n",
       " ('cat', 'NN'),\n",
       " ('sit', 'NN'),\n",
       " ('on', 'IN'),\n",
       " ('the', 'DT'),\n",
       " ('mat', 'NN'),\n",
       " ('.', '.'),\n",
       " ('The', 'DT'),\n",
       " ('mouse', 'NN'),\n",
       " ('ran', 'VBD'),\n",
       " ('away', 'RB'),\n",
       " ('.', '.')]"
      ]
     },
     "execution_count": 18,
     "metadata": {},
     "output_type": "execute_result"
    }
   ],
   "source": [
    "print(\"Text after POS Tagging\")\n",
    "tags"
   ]
  },
  {
   "cell_type": "code",
   "execution_count": null,
   "id": "105b3fe9",
   "metadata": {},
   "outputs": [],
   "source": []
  },
  {
   "cell_type": "code",
   "execution_count": null,
   "id": "de1b82e9",
   "metadata": {},
   "outputs": [],
   "source": []
  },
  {
   "cell_type": "code",
   "execution_count": null,
   "id": "ac783efa",
   "metadata": {},
   "outputs": [],
   "source": []
  },
  {
   "cell_type": "markdown",
   "id": "f19bb5f8",
   "metadata": {},
   "source": [
    "# Chunking"
   ]
  },
  {
   "cell_type": "code",
   "execution_count": 3,
   "id": "d166fcf3",
   "metadata": {},
   "outputs": [
    {
     "name": "stderr",
     "output_type": "stream",
     "text": [
      "[nltk_data] Downloading package averaged_perceptron_tagger to\n",
      "[nltk_data]     C:\\Users\\Toshiba Ansari\\AppData\\Roaming\\nltk_data...\n",
      "[nltk_data]   Package averaged_perceptron_tagger is already up-to-\n",
      "[nltk_data]       date!\n"
     ]
    },
    {
     "data": {
      "text/plain": [
       "True"
      ]
     },
     "execution_count": 3,
     "metadata": {},
     "output_type": "execute_result"
    }
   ],
   "source": [
    "import nltk\n",
    "nltk.download('averaged_perceptron_tagger')"
   ]
  },
  {
   "cell_type": "code",
   "execution_count": 4,
   "id": "60fc9a32",
   "metadata": {},
   "outputs": [],
   "source": [
    "text = 'Rama killed Ravana to save Sita from Lanka. The legend of the Ramayan is the most popular Indian epic.'"
   ]
  },
  {
   "cell_type": "code",
   "execution_count": 5,
   "id": "e6fcb66a",
   "metadata": {},
   "outputs": [],
   "source": [
    "tokenized = nltk.sent_tokenize(text)"
   ]
  },
  {
   "cell_type": "code",
   "execution_count": 8,
   "id": "71a1cfbc",
   "metadata": {},
   "outputs": [
    {
     "name": "stdout",
     "output_type": "stream",
     "text": [
      "['Rama', 'killed', 'Ravana', 'to', 'save', 'Sita', 'from', 'Lanka', '.']\n",
      "['The', 'legend', 'of', 'the', 'Ramayan', 'is', 'the', 'most', 'popular', 'Indian', 'epic', '.']\n"
     ]
    }
   ],
   "source": [
    "for i in tokenized:\n",
    "    words = nltk.word_tokenize(i)\n",
    "    print(words)"
   ]
  },
  {
   "cell_type": "code",
   "execution_count": 17,
   "id": "30908c61",
   "metadata": {},
   "outputs": [],
   "source": [
    "tagged_words = nltk.pos_tag(words)\n"
   ]
  },
  {
   "cell_type": "code",
   "execution_count": 18,
   "id": "6988c025",
   "metadata": {},
   "outputs": [
    {
     "data": {
      "text/plain": [
       "[('The', 'DT'),\n",
       " ('legend', 'NN'),\n",
       " ('of', 'IN'),\n",
       " ('the', 'DT'),\n",
       " ('Ramayan', 'NNP'),\n",
       " ('is', 'VBZ'),\n",
       " ('the', 'DT'),\n",
       " ('most', 'RBS'),\n",
       " ('popular', 'JJ'),\n",
       " ('Indian', 'JJ'),\n",
       " ('epic', 'NN'),\n",
       " ('.', '.')]"
      ]
     },
     "execution_count": 18,
     "metadata": {},
     "output_type": "execute_result"
    }
   ],
   "source": [
    "tagged_words"
   ]
  },
  {
   "cell_type": "code",
   "execution_count": 20,
   "id": "e0d344f4",
   "metadata": {},
   "outputs": [
    {
     "name": "stdout",
     "output_type": "stream",
     "text": [
      "VB:{}\n"
     ]
    }
   ],
   "source": [
    "chunkGram = r\"\"\"VB:{}\"\"\"\n",
    "print(chunkGram)"
   ]
  },
  {
   "cell_type": "code",
   "execution_count": 21,
   "id": "df8a8502",
   "metadata": {},
   "outputs": [],
   "source": [
    "chunkParser = nltk.RegexpParser(chunkGram)"
   ]
  },
  {
   "cell_type": "code",
   "execution_count": 22,
   "id": "9fdcc11e",
   "metadata": {},
   "outputs": [],
   "source": [
    "chunked = chunkParser.parse(tagged_words)"
   ]
  },
  {
   "cell_type": "code",
   "execution_count": 23,
   "id": "d294e7eb",
   "metadata": {},
   "outputs": [],
   "source": [
    "chunked.draw()"
   ]
  },
  {
   "cell_type": "code",
   "execution_count": null,
   "id": "a57cb217",
   "metadata": {},
   "outputs": [],
   "source": []
  },
  {
   "cell_type": "code",
   "execution_count": null,
   "id": "af19f34b",
   "metadata": {},
   "outputs": [],
   "source": []
  },
  {
   "cell_type": "markdown",
   "id": "338049e6",
   "metadata": {},
   "source": [
    "# Graphing Live Twitter Sentiment Analysis"
   ]
  },
  {
   "cell_type": "code",
   "execution_count": 14,
   "id": "ba9ca996",
   "metadata": {},
   "outputs": [],
   "source": [
    "import re\n",
    "import nltk\n",
    "import matplotlib.pyplot as plt\n",
    "from wordcloud import WordCloud\n",
    "import seaborn as sns\n",
    "from nltk.corpus import stopwords\n",
    "from nltk.stem import PorterStemmer\n",
    "from nltk.tokenize import TweetTokenizer\n",
    "from sklearn.feature_extraction.text import CountVectorizer\n",
    "from sklearn.model_selection import train_test_split\n",
    "from sklearn.ensemble import RandomForestClassifier\n",
    "from sklearn.metrics import accuracy_score\n",
    "\n",
    "\n"
   ]
  },
  {
   "cell_type": "code",
   "execution_count": 15,
   "id": "117beaa1",
   "metadata": {},
   "outputs": [],
   "source": [
    "# Preprocessing steps\n",
    "def preprocess_tweet(tweet):\n",
    "    # Remove URLs, special characters, and multiple whitespaces\n",
    "    tweet = re.sub(r\"http\\S+|[^a-zA-Z0-9\\s]|@\\w+|#\\w+\", \"\", tweet)\n",
    "    tweet = re.sub(r\"\\s+\", \" \", tweet)\n",
    "\n",
    "    # Tokenization and stemming\n",
    "    tokenizer = TweetTokenizer(preserve_case=False, strip_handles=True, reduce_len=True)\n",
    "    stemmer = PorterStemmer()\n",
    "    tokens = tokenizer.tokenize(tweet)\n",
    "    stemmed_tokens = [stemmer.stem(token) for token in tokens]\n",
    "\n",
    "    # Remove stopwords and duplicates\n",
    "    stop_words = set(stopwords.words(\"english\"))\n",
    "    filtered_tokens = [token for token in stemmed_tokens if token not in stop_words]\n",
    "    filtered_tokens = list(set(filtered_tokens))\n",
    "\n",
    "    return \" \".join(filtered_tokens)\n",
    "\n"
   ]
  },
  {
   "cell_type": "code",
   "execution_count": 16,
   "id": "fda3b67e",
   "metadata": {},
   "outputs": [],
   "source": [
    "# Load and preprocess COVID-19 tweets dataset\n",
    "def load_dataset():\n",
    "    # Load tweets from a file\n",
    "    with open(\"covid_tweets.txt\", \"r\", encoding=\"utf-8\") as file:\n",
    "        tweets = file.readlines()\n",
    "\n",
    "    # Preprocess tweets\n",
    "    preprocessed_tweets = [preprocess_tweet(tweet) for tweet in tweets]\n",
    "\n",
    "    # Assign labels (positive/negative)\n",
    "    labels = [\"positive\", \"negative\"] * (len(preprocessed_tweets) // 2)\n",
    "\n",
    "    return preprocessed_tweets, labels\n",
    "\n"
   ]
  },
  {
   "cell_type": "code",
   "execution_count": 17,
   "id": "665e4690",
   "metadata": {},
   "outputs": [],
   "source": [
    "# Generate word cloud and heatmap visualization\n",
    "def visualize_data(tweets):\n",
    "    # Generate word cloud\n",
    "    all_words = \" \".join(tweets)\n",
    "    wordcloud = WordCloud(width=800, height=400, background_color=\"white\").generate(all_words)\n",
    "    plt.figure(figsize=(10, 5))\n",
    "    plt.imshow(wordcloud, interpolation=\"bilinear\")\n",
    "    plt.axis(\"off\")\n",
    "    plt.title(\"Word Cloud\")\n",
    "    plt.show()\n",
    "\n",
    "    # Generate heatmap\n",
    "    vectorizer = CountVectorizer()\n",
    "    X = vectorizer.fit_transform(tweets)\n",
    "    heatmap = sns.heatmap(X.toarray(), cmap=\"Blues\", xticklabels=vectorizer.get_feature_names(),\n",
    "                          yticklabels=False)\n",
    "    plt.title(\"Heatmap\")\n",
    "    plt.show()\n",
    "\n"
   ]
  },
  {
   "cell_type": "code",
   "execution_count": 18,
   "id": "55ff48dc",
   "metadata": {},
   "outputs": [],
   "source": [
    "# Train and test sentiment analysis model\n",
    "def train_test_model(tweets, labels):\n",
    "    # Split dataset into train and test sets\n",
    "    X_train, X_test, y_train, y_test = train_test_split(tweets, labels, test_size=0.2, random_state=42)\n",
    "\n",
    "    # Vectorize tweets\n",
    "    vectorizer = CountVectorizer()\n",
    "    X_train = vectorizer.fit_transform(X_train)\n",
    "    X_test = vectorizer.transform(X_test)\n",
    "\n",
    "    # Train a random forest classifier\n",
    "    classifier = RandomForestClassifier(n_estimators=100, random_state=42)\n",
    "    classifier.fit(X_train, y_train)\n",
    "\n",
    "    # Predict labels for test set\n",
    "    y_pred = classifier.predict(X_test)\n",
    "\n",
    "    # Calculate accuracy\n",
    "    accuracy = accuracy_score(y_test, y_pred)\n",
    "    print(\"Accuracy:\", accuracy)\n",
    "\n",
    "    # Test the model with a sample text\n",
    "    sample_text = \"Stay safe everyone. #COVID19\"\n",
    "    sample_text = preprocess_tweet(sample_text)\n",
    "    sample_text_vectorized = vectorizer.transform([sample_text])\n",
    "\n",
    "    # Predict sentiment for the sample text\n",
    "    sample_text_sentiment = classifier.predict(sample_text_vectorized)[0]\n",
    "    print(\"Sample Text Sentiment:\", sample_text_sentiment)"
   ]
  },
  {
   "cell_type": "code",
   "execution_count": 20,
   "id": "5f50ec50",
   "metadata": {},
   "outputs": [
    {
     "data": {
      "image/png": "[encoded data removed]",
      "text/plain": [
       "<Figure size 720x360 with 1 Axes>"
      ]
     },
     "metadata": {
      "needs_background": "light"
     },
     "output_type": "display_data"
    },
    {
     "name": "stderr",
     "output_type": "stream",
     "text": [
      "C:\\Users\\Kunal Chawla\\anaconda3\\lib\\site-packages\\sklearn\\utils\\deprecation.py:87: FutureWarning: Function get_feature_names is deprecated; get_feature_names is deprecated in 1.0 and will be removed in 1.2. Please use get_feature_names_out instead.\n",
      "  warnings.warn(msg, category=FutureWarning)\n"
     ]
    },
    {
     "data": {
      "image/png": "[encoded data removed]",
      "text/plain": [
       "<Figure size 432x288 with 2 Axes>"
      ]
     },
     "metadata": {
      "needs_background": "light"
     },
     "output_type": "display_data"
    },
    {
     "name": "stdout",
     "output_type": "stream",
     "text": [
      "Accuracy: 0.0\n",
      "Sample Text Sentiment: positive\n",
      "Stay safe everyone. #COVID19\n"
     ]
    }
   ],
   "source": [
    "# Main program\n",
    "if __name__ == \"__main__\":\n",
    "    # Load and preprocess dataset\n",
    "    tweets, labels = load_dataset()\n",
    "\n",
    "    # Visualize data\n",
    "    visualize_data(tweets)\n",
    "\n",
    "    # Train and test model\n",
    "    train_test_model(tweets, labels)\n",
    "    sample_text = \"Stay safe everyone. #COVID19\"\n",
    "    print(sample_text)\n",
    "    "
   ]
  },
  {
   "cell_type": "code",
   "execution_count": null,
   "id": "4bf4e68c",
   "metadata": {},
   "outputs": [],
   "source": []
  },
  {
   "cell_type": "code",
   "execution_count": null,
   "id": "88d8b172",
   "metadata": {},
   "outputs": [],
   "source": [
    "import re\n",
    "import nltk\n",
    "import matplotlib.pyplot as plt\n",
    "from wordcloud import WordCloud\n",
    "import seaborn as sns\n",
    "from nltk.corpus import stopwords\n",
    "from nltk.stem import PorterStemmer\n",
    "from nltk.tokenize import TweetTokenizer\n",
    "from sklearn.feature_extraction.text import CountVectorizer\n",
    "from sklearn.model_selection import train_test_split\n",
    "from sklearn.ensemble import RandomForestClassifier\n",
    "from sklearn.metrics import accuracy_score\n",
    "\n",
    "\n",
    "\n",
    "\n",
    "# Preprocessing steps\n",
    "def preprocess_tweet(tweet):\n",
    "    # Remove URLs, special characters, and multiple whitespaces\n",
    "    tweet = re.sub(r\"http\\S+|[^a-zA-Z0-9\\s]|@\\w+|#\\w+\", \"\", tweet)\n",
    "    tweet = re.sub(r\"\\s+\", \" \", tweet)\n",
    "\n",
    "    # Tokenization and stemming\n",
    "    tokenizer = TweetTokenizer(preserve_case=False, strip_handles=True, reduce_len=True)\n",
    "    stemmer = PorterStemmer()\n",
    "    tokens = tokenizer.tokenize(tweet)\n",
    "    stemmed_tokens = [stemmer.stem(token) for token in tokens]\n",
    "\n",
    "    # Remove stopwords and duplicates\n",
    "    stop_words = set(stopwords.words(\"english\"))\n",
    "    filtered_tokens = [token for token in stemmed_tokens if token not in stop_words]\n",
    "    filtered_tokens = list(set(filtered_tokens))\n",
    "\n",
    "    return \" \".join(filtered_tokens)\n",
    "\n",
    "\n",
    "\n",
    "# Load and preprocess COVID-19 tweets dataset\n",
    "def load_dataset():\n",
    "    # Load tweets from a file\n",
    "    with open(\"covid_tweets.txt\", \"r\", encoding=\"utf-8\") as file:\n",
    "        tweets = file.readlines()\n",
    "\n",
    "    # Preprocess tweets\n",
    "    preprocessed_tweets = [preprocess_tweet(tweet) for tweet in tweets]\n",
    "\n",
    "    # Assign labels (positive/negative)\n",
    "    labels = [\"positive\", \"negative\"] * (len(preprocessed_tweets) // 2)\n",
    "\n",
    "    return preprocessed_tweets, labels\n",
    "\n",
    "\n",
    "\n",
    "# Generate word cloud and heatmap visualization\n",
    "def visualize_data(tweets):\n",
    "    # Generate word cloud\n",
    "    all_words = \" \".join(tweets)\n",
    "    wordcloud = WordCloud(width=800, height=400, background_color=\"white\").generate(all_words)\n",
    "    plt.figure(figsize=(10, 5))\n",
    "    plt.imshow(wordcloud, interpolation=\"bilinear\")\n",
    "    plt.axis(\"off\")\n",
    "    plt.title(\"Word Cloud\")\n",
    "    plt.show()\n",
    "\n",
    "    # Generate heatmap\n",
    "    vectorizer = CountVectorizer()\n",
    "    X = vectorizer.fit_transform(tweets)\n",
    "    heatmap = sns.heatmap(X.toarray(), cmap=\"Blues\", xticklabels=vectorizer.get_feature_names(),\n",
    "                          yticklabels=False)\n",
    "    plt.title(\"Heatmap\")\n",
    "    plt.show()\n",
    "\n",
    "\n",
    "\n",
    "# Train and test sentiment analysis model\n",
    "def train_test_model(tweets, labels):\n",
    "    # Split dataset into train and test sets\n",
    "    X_train, X_test, y_train, y_test = train_test_split(tweets, labels, test_size=0.2, random_state=42)\n",
    "\n",
    "    # Vectorize tweets\n",
    "    vectorizer = CountVectorizer()\n",
    "    X_train = vectorizer.fit_transform(X_train)\n",
    "    X_test = vectorizer.transform(X_test)\n",
    "\n",
    "    # Train a random forest classifier\n",
    "    classifier = RandomForestClassifier(n_estimators=100, random_state=42)\n",
    "    classifier.fit(X_train, y_train)\n",
    "\n",
    "    # Predict labels for test set\n",
    "    y_pred = classifier.predict(X_test)\n",
    "\n",
    "    # Calculate accuracy\n",
    "    accuracy = accuracy_score(y_test, y_pred)\n",
    "    print(\"Accuracy:\", accuracy)\n",
    "\n",
    "    # Test the model with a sample text\n",
    "    sample_text = \"Stay safe everyone. #COVID19\"\n",
    "    sample_text = preprocess_tweet(sample_text)\n",
    "    sample_text_vectorized = vectorizer.transform([sample_text])\n",
    "\n",
    "    # Predict sentiment for the sample text\n",
    "    sample_text_sentiment = classifier.predict(sample_text_vectorized)[0]\n",
    "    print(\"Sample Text Sentiment:\", sample_text_sentiment)\n",
    "\n",
    "# Main program\n",
    "if __name__ == \"__main__\":\n",
    "    # Load and preprocess dataset\n",
    "    tweets, labels = load_dataset()\n",
    "\n",
    "    # Visualize data\n",
    "    visualize_data(tweets)\n",
    "\n",
    "    # Train and test model\n",
    "    train_test_model(tweets, labels)\n",
    "    sample_text = \"Stay safe everyone. #COVID19\"\n",
    "    print(sample_text)\n",
    "    \n",
    "\n"
   ]
  }
 ],
 "metadata": {
  "kernelspec": {
   "display_name": "Python 3 (ipykernel)",
   "language": "python",
   "name": "python3"
  },
  "language_info": {
   "codemirror_mode": {
    "name": "ipython",
    "version": 3
   },
   "file_extension": ".py",
   "mimetype": "text/x-python",
   "name": "python",
   "nbconvert_exporter": "python",
   "pygments_lexer": "ipython3",
   "version": "3.9.12"
  }
 },
 "nbformat": 4,
 "nbformat_minor": 5
}
